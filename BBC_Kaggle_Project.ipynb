{
 "cells": [
  {
   "cell_type": "markdown",
   "id": "f6148043",
   "metadata": {},
   "source": [
    "# BBC Kaggle Project\n",
    "In this project, we’ll use a news article dataset from BBC. This dataset contains 2225 articles with each labeled as either: business, tech, politics, sport, or entertainment.\n",
    "\n",
    "The dataset is broken into 1490 articles for training and 735 for testing (the test set must be uploaded to Kaggle for evaluation). The goal for this project is to create a model that will classify unseen news articles. Both unsupervised and surpervised learning approaches will be evaluated.\n",
    "\n",
    "The data used in this analysis comes from here: https://www.kaggle.com/c/learn-ai-bbc/overview"
   ]
  },
  {
   "cell_type": "markdown",
   "id": "52010c4e",
   "metadata": {},
   "source": [
    "Github link: https://github.com/rpforrest1/BBC_Kaggle_Project"
   ]
  },
  {
   "cell_type": "code",
   "execution_count": 1,
   "id": "2d981a15",
   "metadata": {},
   "outputs": [],
   "source": [
    "import pandas as pd\n",
    "import numpy as np\n",
    "from sklearn.feature_extraction.text import TfidfVectorizer\n",
    "from sklearn.decomposition import NMF\n",
    "from sklearn.ensemble import RandomForestClassifier\n",
    "from sklearn.model_selection import GridSearchCV\n",
    "from sklearn.metrics import accuracy_score, confusion_matrix\n",
    "from nltk.corpus import stopwords\n",
    "import itertools\n",
    "import matplotlib.pyplot as plt\n",
    "import seaborn as sns"
   ]
  },
  {
   "cell_type": "code",
   "execution_count": 2,
   "id": "b7f8dcfe",
   "metadata": {},
   "outputs": [],
   "source": [
    "df = pd.read_csv('data/BBC News Train.csv')\n",
    "submission_test_df = pd.read_csv('data/BBC News Test.csv')"
   ]
  },
  {
   "cell_type": "code",
   "execution_count": 3,
   "id": "f536b5ea",
   "metadata": {},
   "outputs": [
    {
     "name": "stdout",
     "output_type": "stream",
     "text": [
      "Length of training dataset: 1490\n",
      "Length of testing dataset: 735\n"
     ]
    }
   ],
   "source": [
    "print(f'Length of training dataset: {len(df)}')\n",
    "print(f'Length of testing dataset: {len(submission_test_df)}')"
   ]
  },
  {
   "cell_type": "markdown",
   "id": "5c018b0c",
   "metadata": {},
   "source": [
    "---"
   ]
  },
  {
   "cell_type": "markdown",
   "id": "e077e3d1",
   "metadata": {},
   "source": [
    "# Exploratory Data Analysis"
   ]
  },
  {
   "cell_type": "code",
   "execution_count": 4,
   "id": "409c3d42",
   "metadata": {},
   "outputs": [
    {
     "name": "stdout",
     "output_type": "stream",
     "text": [
      "Dataset information:\n",
      "<class 'pandas.core.frame.DataFrame'>\n",
      "RangeIndex: 1490 entries, 0 to 1489\n",
      "Data columns (total 3 columns):\n",
      " #   Column     Non-Null Count  Dtype \n",
      "---  ------     --------------  ----- \n",
      " 0   ArticleId  1490 non-null   int64 \n",
      " 1   Text       1490 non-null   object\n",
      " 2   Category   1490 non-null   object\n",
      "dtypes: int64(1), object(2)\n",
      "memory usage: 35.0+ KB\n"
     ]
    }
   ],
   "source": [
    "print('Dataset information:')\n",
    "df.info()"
   ]
  },
  {
   "cell_type": "markdown",
   "id": "aa17f063",
   "metadata": {},
   "source": [
    "There were no null values detected in the dataset. Will also check for any articles that are unusually short (we would likely count these as null also)."
   ]
  },
  {
   "cell_type": "code",
   "execution_count": 5,
   "id": "de33ad14",
   "metadata": {},
   "outputs": [
    {
     "name": "stdout",
     "output_type": "stream",
     "text": [
      "Number of articles with less than 100 characters: 0\n"
     ]
    }
   ],
   "source": [
    "print(f\"Number of articles with less than 100 characters: {(df['Text'].apply(len) < 100).sum()}\")"
   ]
  },
  {
   "cell_type": "code",
   "execution_count": 6,
   "id": "3f057ee6",
   "metadata": {},
   "outputs": [
    {
     "name": "stdout",
     "output_type": "stream",
     "text": [
      "Unique categories:\n",
      "['business' 'tech' 'politics' 'sport' 'entertainment']\n"
     ]
    }
   ],
   "source": [
    "print('Unique categories:')\n",
    "print(df['Category'].unique())"
   ]
  },
  {
   "cell_type": "markdown",
   "id": "d9396864",
   "metadata": {},
   "source": [
    "Lets take a look at the distribution of article categories. If there is some imbalance, then the modeling approach will have to change to accommodate."
   ]
  },
  {
   "cell_type": "code",
   "execution_count": 7,
   "id": "c8aea26e",
   "metadata": {},
   "outputs": [
    {
     "data": {
      "image/png": "[encoded data removed]",
      "text/plain": [
       "<Figure size 640x480 with 1 Axes>"
      ]
     },
     "metadata": {},
     "output_type": "display_data"
    }
   ],
   "source": [
    "ax = sns.countplot(df, x='Category')\n",
    "plt.title('Count of Articles per Category')\n",
    "plt.bar_label(ax.containers[0])\n",
    "plt.show()"
   ]
  },
  {
   "cell_type": "markdown",
   "id": "cd4514aa",
   "metadata": {},
   "source": [
    "From the plot above, we can see that the business and sport categories are over represented. The modeling approach won't be changed due to these results, but will be kept in mind as something to potentially account for."
   ]
  },
  {
   "cell_type": "markdown",
   "id": "18f3e4cb",
   "metadata": {},
   "source": [
    "A typical step thats applied in NLP is stop word removal. Stop words are not considered important and are typically high is frequency. Typical stop words in English are: 'a', 'the', 'of', 'to', 'at', etc.. These stop words will be removed as a preprocessing step."
   ]
  },
  {
   "cell_type": "code",
   "execution_count": 8,
   "id": "f20a5380",
   "metadata": {},
   "outputs": [],
   "source": [
    "def process_stopwords(dataframe):\n",
    "    \"\"\"\n",
    "    dataframe: the pandas dataframe to remove the stopwords for.\n",
    "    Will automatically remove it from the \"Text\" column.\n",
    "    \"\"\"\n",
    "    \n",
    "    #These stopwords are provided by the nltk package\n",
    "    en_stopwords = stopwords.words('english')\n",
    "    \n",
    "    #Will also add any other unimportant characters that may appear as an entire word.\n",
    "    en_stopwords = en_stopwords + ['', '-', '.']\n",
    "    \n",
    "    def remove_stopwords(text):\n",
    "        return ' '.join([s for s in text.split(' ') if s not in en_stopwords])\n",
    "    \n",
    "    dataframe['Text'] = dataframe['Text'].apply(remove_stopwords)"
   ]
  },
  {
   "cell_type": "code",
   "execution_count": 9,
   "id": "48307eb3",
   "metadata": {},
   "outputs": [],
   "source": [
    "process_stopwords(df)"
   ]
  },
  {
   "cell_type": "markdown",
   "id": "de266b22",
   "metadata": {},
   "source": [
    "Now that the stop words are removed, we can create the word embedding using the TF-IDF technique. TF-IDF stands for term frequency - inverse document frequency. TF-IDF values are between 0 and 1 with a higher score meaning that the word is considered more significant.\n",
    "\n",
    "Term Frequency (TF) is calculated as: [count of term in the document] / [number of words in the document]\n",
    "\n",
    "Inverse Document Frequency (IDF) is calculated as: log [ (1 + [number of documents]) / (1 + [count of documents the term appears in]) ] + 1"
   ]
  },
  {
   "cell_type": "code",
   "execution_count": 10,
   "id": "22108de0",
   "metadata": {},
   "outputs": [],
   "source": [
    "vectorizer = TfidfVectorizer()\n",
    "tfidf = vectorizer.fit_transform(df['Text'])"
   ]
  },
  {
   "cell_type": "code",
   "execution_count": 11,
   "id": "a5bb15ad",
   "metadata": {},
   "outputs": [
    {
     "data": {
      "text/html": [
       "<div>\n",
       "<style scoped>\n",
       "    .dataframe tbody tr th:only-of-type {\n",
       "        vertical-align: middle;\n",
       "    }\n",
       "\n",
       "    .dataframe tbody tr th {\n",
       "        vertical-align: top;\n",
       "    }\n",
       "\n",
       "    .dataframe thead th {\n",
       "        text-align: right;\n",
       "    }\n",
       "</style>\n",
       "<table border=\"1\" class=\"dataframe\">\n",
       "  <thead>\n",
       "    <tr style=\"text-align: right;\">\n",
       "      <th></th>\n",
       "      <th>00</th>\n",
       "      <th>000</th>\n",
       "      <th>0001</th>\n",
       "      <th>000bn</th>\n",
       "      <th>000m</th>\n",
       "      <th>000th</th>\n",
       "      <th>001</th>\n",
       "      <th>001and</th>\n",
       "      <th>001st</th>\n",
       "      <th>0051</th>\n",
       "      <th>...</th>\n",
       "      <th>zonealarm</th>\n",
       "      <th>zones</th>\n",
       "      <th>zoom</th>\n",
       "      <th>zooms</th>\n",
       "      <th>zooropa</th>\n",
       "      <th>zorro</th>\n",
       "      <th>zuluaga</th>\n",
       "      <th>zurich</th>\n",
       "      <th>zutons</th>\n",
       "      <th>zvonareva</th>\n",
       "    </tr>\n",
       "  </thead>\n",
       "  <tbody>\n",
       "    <tr>\n",
       "      <th>0</th>\n",
       "      <td>0.0</td>\n",
       "      <td>0.000000</td>\n",
       "      <td>0.0</td>\n",
       "      <td>0.0</td>\n",
       "      <td>0.0</td>\n",
       "      <td>0.0</td>\n",
       "      <td>0.0</td>\n",
       "      <td>0.0</td>\n",
       "      <td>0.0</td>\n",
       "      <td>0.0</td>\n",
       "      <td>...</td>\n",
       "      <td>0.0</td>\n",
       "      <td>0.0</td>\n",
       "      <td>0.0</td>\n",
       "      <td>0.0</td>\n",
       "      <td>0.0</td>\n",
       "      <td>0.0</td>\n",
       "      <td>0.0</td>\n",
       "      <td>0.0</td>\n",
       "      <td>0.0</td>\n",
       "      <td>0.0</td>\n",
       "    </tr>\n",
       "    <tr>\n",
       "      <th>1</th>\n",
       "      <td>0.0</td>\n",
       "      <td>0.000000</td>\n",
       "      <td>0.0</td>\n",
       "      <td>0.0</td>\n",
       "      <td>0.0</td>\n",
       "      <td>0.0</td>\n",
       "      <td>0.0</td>\n",
       "      <td>0.0</td>\n",
       "      <td>0.0</td>\n",
       "      <td>0.0</td>\n",
       "      <td>...</td>\n",
       "      <td>0.0</td>\n",
       "      <td>0.0</td>\n",
       "      <td>0.0</td>\n",
       "      <td>0.0</td>\n",
       "      <td>0.0</td>\n",
       "      <td>0.0</td>\n",
       "      <td>0.0</td>\n",
       "      <td>0.0</td>\n",
       "      <td>0.0</td>\n",
       "      <td>0.0</td>\n",
       "    </tr>\n",
       "    <tr>\n",
       "      <th>2</th>\n",
       "      <td>0.0</td>\n",
       "      <td>0.022885</td>\n",
       "      <td>0.0</td>\n",
       "      <td>0.0</td>\n",
       "      <td>0.0</td>\n",
       "      <td>0.0</td>\n",
       "      <td>0.0</td>\n",
       "      <td>0.0</td>\n",
       "      <td>0.0</td>\n",
       "      <td>0.0</td>\n",
       "      <td>...</td>\n",
       "      <td>0.0</td>\n",
       "      <td>0.0</td>\n",
       "      <td>0.0</td>\n",
       "      <td>0.0</td>\n",
       "      <td>0.0</td>\n",
       "      <td>0.0</td>\n",
       "      <td>0.0</td>\n",
       "      <td>0.0</td>\n",
       "      <td>0.0</td>\n",
       "      <td>0.0</td>\n",
       "    </tr>\n",
       "    <tr>\n",
       "      <th>3</th>\n",
       "      <td>0.0</td>\n",
       "      <td>0.019135</td>\n",
       "      <td>0.0</td>\n",
       "      <td>0.0</td>\n",
       "      <td>0.0</td>\n",
       "      <td>0.0</td>\n",
       "      <td>0.0</td>\n",
       "      <td>0.0</td>\n",
       "      <td>0.0</td>\n",
       "      <td>0.0</td>\n",
       "      <td>...</td>\n",
       "      <td>0.0</td>\n",
       "      <td>0.0</td>\n",
       "      <td>0.0</td>\n",
       "      <td>0.0</td>\n",
       "      <td>0.0</td>\n",
       "      <td>0.0</td>\n",
       "      <td>0.0</td>\n",
       "      <td>0.0</td>\n",
       "      <td>0.0</td>\n",
       "      <td>0.0</td>\n",
       "    </tr>\n",
       "    <tr>\n",
       "      <th>4</th>\n",
       "      <td>0.0</td>\n",
       "      <td>0.000000</td>\n",
       "      <td>0.0</td>\n",
       "      <td>0.0</td>\n",
       "      <td>0.0</td>\n",
       "      <td>0.0</td>\n",
       "      <td>0.0</td>\n",
       "      <td>0.0</td>\n",
       "      <td>0.0</td>\n",
       "      <td>0.0</td>\n",
       "      <td>...</td>\n",
       "      <td>0.0</td>\n",
       "      <td>0.0</td>\n",
       "      <td>0.0</td>\n",
       "      <td>0.0</td>\n",
       "      <td>0.0</td>\n",
       "      <td>0.0</td>\n",
       "      <td>0.0</td>\n",
       "      <td>0.0</td>\n",
       "      <td>0.0</td>\n",
       "      <td>0.0</td>\n",
       "    </tr>\n",
       "    <tr>\n",
       "      <th>...</th>\n",
       "      <td>...</td>\n",
       "      <td>...</td>\n",
       "      <td>...</td>\n",
       "      <td>...</td>\n",
       "      <td>...</td>\n",
       "      <td>...</td>\n",
       "      <td>...</td>\n",
       "      <td>...</td>\n",
       "      <td>...</td>\n",
       "      <td>...</td>\n",
       "      <td>...</td>\n",
       "      <td>...</td>\n",
       "      <td>...</td>\n",
       "      <td>...</td>\n",
       "      <td>...</td>\n",
       "      <td>...</td>\n",
       "      <td>...</td>\n",
       "      <td>...</td>\n",
       "      <td>...</td>\n",
       "      <td>...</td>\n",
       "      <td>...</td>\n",
       "    </tr>\n",
       "    <tr>\n",
       "      <th>1485</th>\n",
       "      <td>0.0</td>\n",
       "      <td>0.031685</td>\n",
       "      <td>0.0</td>\n",
       "      <td>0.0</td>\n",
       "      <td>0.0</td>\n",
       "      <td>0.0</td>\n",
       "      <td>0.0</td>\n",
       "      <td>0.0</td>\n",
       "      <td>0.0</td>\n",
       "      <td>0.0</td>\n",
       "      <td>...</td>\n",
       "      <td>0.0</td>\n",
       "      <td>0.0</td>\n",
       "      <td>0.0</td>\n",
       "      <td>0.0</td>\n",
       "      <td>0.0</td>\n",
       "      <td>0.0</td>\n",
       "      <td>0.0</td>\n",
       "      <td>0.0</td>\n",
       "      <td>0.0</td>\n",
       "      <td>0.0</td>\n",
       "    </tr>\n",
       "    <tr>\n",
       "      <th>1486</th>\n",
       "      <td>0.0</td>\n",
       "      <td>0.000000</td>\n",
       "      <td>0.0</td>\n",
       "      <td>0.0</td>\n",
       "      <td>0.0</td>\n",
       "      <td>0.0</td>\n",
       "      <td>0.0</td>\n",
       "      <td>0.0</td>\n",
       "      <td>0.0</td>\n",
       "      <td>0.0</td>\n",
       "      <td>...</td>\n",
       "      <td>0.0</td>\n",
       "      <td>0.0</td>\n",
       "      <td>0.0</td>\n",
       "      <td>0.0</td>\n",
       "      <td>0.0</td>\n",
       "      <td>0.0</td>\n",
       "      <td>0.0</td>\n",
       "      <td>0.0</td>\n",
       "      <td>0.0</td>\n",
       "      <td>0.0</td>\n",
       "    </tr>\n",
       "    <tr>\n",
       "      <th>1487</th>\n",
       "      <td>0.0</td>\n",
       "      <td>0.000000</td>\n",
       "      <td>0.0</td>\n",
       "      <td>0.0</td>\n",
       "      <td>0.0</td>\n",
       "      <td>0.0</td>\n",
       "      <td>0.0</td>\n",
       "      <td>0.0</td>\n",
       "      <td>0.0</td>\n",
       "      <td>0.0</td>\n",
       "      <td>...</td>\n",
       "      <td>0.0</td>\n",
       "      <td>0.0</td>\n",
       "      <td>0.0</td>\n",
       "      <td>0.0</td>\n",
       "      <td>0.0</td>\n",
       "      <td>0.0</td>\n",
       "      <td>0.0</td>\n",
       "      <td>0.0</td>\n",
       "      <td>0.0</td>\n",
       "      <td>0.0</td>\n",
       "    </tr>\n",
       "    <tr>\n",
       "      <th>1488</th>\n",
       "      <td>0.0</td>\n",
       "      <td>0.000000</td>\n",
       "      <td>0.0</td>\n",
       "      <td>0.0</td>\n",
       "      <td>0.0</td>\n",
       "      <td>0.0</td>\n",
       "      <td>0.0</td>\n",
       "      <td>0.0</td>\n",
       "      <td>0.0</td>\n",
       "      <td>0.0</td>\n",
       "      <td>...</td>\n",
       "      <td>0.0</td>\n",
       "      <td>0.0</td>\n",
       "      <td>0.0</td>\n",
       "      <td>0.0</td>\n",
       "      <td>0.0</td>\n",
       "      <td>0.0</td>\n",
       "      <td>0.0</td>\n",
       "      <td>0.0</td>\n",
       "      <td>0.0</td>\n",
       "      <td>0.0</td>\n",
       "    </tr>\n",
       "    <tr>\n",
       "      <th>1489</th>\n",
       "      <td>0.0</td>\n",
       "      <td>0.025297</td>\n",
       "      <td>0.0</td>\n",
       "      <td>0.0</td>\n",
       "      <td>0.0</td>\n",
       "      <td>0.0</td>\n",
       "      <td>0.0</td>\n",
       "      <td>0.0</td>\n",
       "      <td>0.0</td>\n",
       "      <td>0.0</td>\n",
       "      <td>...</td>\n",
       "      <td>0.0</td>\n",
       "      <td>0.0</td>\n",
       "      <td>0.0</td>\n",
       "      <td>0.0</td>\n",
       "      <td>0.0</td>\n",
       "      <td>0.0</td>\n",
       "      <td>0.0</td>\n",
       "      <td>0.0</td>\n",
       "      <td>0.0</td>\n",
       "      <td>0.0</td>\n",
       "    </tr>\n",
       "  </tbody>\n",
       "</table>\n",
       "<p>1490 rows × 24710 columns</p>\n",
       "</div>"
      ],
      "text/plain": [
       "       00       000  0001  000bn  000m  000th  001  001and  001st  0051  ...  \\\n",
       "0     0.0  0.000000   0.0    0.0   0.0    0.0  0.0     0.0    0.0   0.0  ...   \n",
       "1     0.0  0.000000   0.0    0.0   0.0    0.0  0.0     0.0    0.0   0.0  ...   \n",
       "2     0.0  0.022885   0.0    0.0   0.0    0.0  0.0     0.0    0.0   0.0  ...   \n",
       "3     0.0  0.019135   0.0    0.0   0.0    0.0  0.0     0.0    0.0   0.0  ...   \n",
       "4     0.0  0.000000   0.0    0.0   0.0    0.0  0.0     0.0    0.0   0.0  ...   \n",
       "...   ...       ...   ...    ...   ...    ...  ...     ...    ...   ...  ...   \n",
       "1485  0.0  0.031685   0.0    0.0   0.0    0.0  0.0     0.0    0.0   0.0  ...   \n",
       "1486  0.0  0.000000   0.0    0.0   0.0    0.0  0.0     0.0    0.0   0.0  ...   \n",
       "1487  0.0  0.000000   0.0    0.0   0.0    0.0  0.0     0.0    0.0   0.0  ...   \n",
       "1488  0.0  0.000000   0.0    0.0   0.0    0.0  0.0     0.0    0.0   0.0  ...   \n",
       "1489  0.0  0.025297   0.0    0.0   0.0    0.0  0.0     0.0    0.0   0.0  ...   \n",
       "\n",
       "      zonealarm  zones  zoom  zooms  zooropa  zorro  zuluaga  zurich  zutons  \\\n",
       "0           0.0    0.0   0.0    0.0      0.0    0.0      0.0     0.0     0.0   \n",
       "1           0.0    0.0   0.0    0.0      0.0    0.0      0.0     0.0     0.0   \n",
       "2           0.0    0.0   0.0    0.0      0.0    0.0      0.0     0.0     0.0   \n",
       "3           0.0    0.0   0.0    0.0      0.0    0.0      0.0     0.0     0.0   \n",
       "4           0.0    0.0   0.0    0.0      0.0    0.0      0.0     0.0     0.0   \n",
       "...         ...    ...   ...    ...      ...    ...      ...     ...     ...   \n",
       "1485        0.0    0.0   0.0    0.0      0.0    0.0      0.0     0.0     0.0   \n",
       "1486        0.0    0.0   0.0    0.0      0.0    0.0      0.0     0.0     0.0   \n",
       "1487        0.0    0.0   0.0    0.0      0.0    0.0      0.0     0.0     0.0   \n",
       "1488        0.0    0.0   0.0    0.0      0.0    0.0      0.0     0.0     0.0   \n",
       "1489        0.0    0.0   0.0    0.0      0.0    0.0      0.0     0.0     0.0   \n",
       "\n",
       "      zvonareva  \n",
       "0           0.0  \n",
       "1           0.0  \n",
       "2           0.0  \n",
       "3           0.0  \n",
       "4           0.0  \n",
       "...         ...  \n",
       "1485        0.0  \n",
       "1486        0.0  \n",
       "1487        0.0  \n",
       "1488        0.0  \n",
       "1489        0.0  \n",
       "\n",
       "[1490 rows x 24710 columns]"
      ]
     },
     "metadata": {},
     "output_type": "display_data"
    }
   ],
   "source": [
    "features = pd.DataFrame(tfidf.todense(), columns=vectorizer.get_feature_names_out())\n",
    "display(features)"
   ]
  },
  {
   "cell_type": "markdown",
   "id": "76dcccdf",
   "metadata": {},
   "source": [
    "Now that we have the TF-IDF values, lets see which terms have the highest total TF-IDF per category."
   ]
  },
  {
   "cell_type": "code",
   "execution_count": 12,
   "id": "412fe7ec",
   "metadata": {},
   "outputs": [],
   "source": [
    "joined_features = df[['Category']].join(features)\n",
    "joined_features = joined_features.replace(0,np.NaN)\n",
    "category_summed_tfidf = joined_features.groupby('Category').sum()\n",
    "category_summed_tfidf.fillna(0, inplace=True)"
   ]
  },
  {
   "cell_type": "code",
   "execution_count": 13,
   "id": "30e38409",
   "metadata": {},
   "outputs": [],
   "source": [
    "def get_largest_tfidf_terms(array, n=5):\n",
    "    \"\"\"\n",
    "    array: tfidf array to sort\n",
    "    n: number of terms to return\n",
    "    \"\"\"\n",
    "    #Top n unsorted indices with largest values\n",
    "    ind = np.argpartition(array, -n)[-n:]\n",
    "    \n",
    "    #Sorts indices\n",
    "    return ind[np.argsort(array[ind])][::-1]"
   ]
  },
  {
   "cell_type": "code",
   "execution_count": 14,
   "id": "1f7806c5",
   "metadata": {},
   "outputs": [
    {
     "name": "stdout",
     "output_type": "stream",
     "text": [
      "Category: business\n",
      "said       13.326727\n",
      "us         10.782724\n",
      "growth      9.654545\n",
      "economy     8.772872\n",
      "bank        8.326410\n",
      "Name: business, dtype: float64\n",
      " \n",
      "Category: entertainment\n",
      "film      19.829240\n",
      "best      11.666112\n",
      "music      7.875985\n",
      "said       7.376220\n",
      "awards     7.364590\n",
      "Name: entertainment, dtype: float64\n",
      " \n",
      "Category: politics\n",
      "mr          21.024520\n",
      "labour      16.359353\n",
      "said        15.997499\n",
      "election    14.545260\n",
      "blair       14.093918\n",
      "Name: politics, dtype: float64\n",
      " \n",
      "Category: sport\n",
      "england    11.467101\n",
      "game       10.826426\n",
      "win         9.276456\n",
      "said        9.159802\n",
      "cup         8.307849\n",
      "Name: sport, dtype: float64\n",
      " \n",
      "Category: tech\n",
      "people      10.812944\n",
      "mobile      10.386262\n",
      "said        10.002426\n",
      "software     8.426272\n",
      "users        7.987058\n",
      "Name: tech, dtype: float64\n",
      " \n"
     ]
    }
   ],
   "source": [
    "feature_columns = category_summed_tfidf.columns\n",
    "\n",
    "for category in category_summed_tfidf.index:\n",
    "    sorted_ind = get_largest_tfidf_terms(category_summed_tfidf.loc[category].values)\n",
    "    print(f'Category: {category}')\n",
    "    print(category_summed_tfidf.loc[category][feature_columns[sorted_ind]])\n",
    "    print(' ')"
   ]
  },
  {
   "cell_type": "markdown",
   "id": "c3dccb94",
   "metadata": {},
   "source": [
    "When looking across the categories, we can see that most of the results make sense. One would expect within a business article, for words like 'us', 'growth' and 'economy' to be popular. Within the entertainment category, words like 'film' and 'music' would be highly likely. Upon closer inspection of these results, the word 'said' doesn't completely make sense as a word that would specifically belong to a category. It behaves similarily to a type of stop word, but until more is learned, this will be left alone."
   ]
  },
  {
   "cell_type": "markdown",
   "id": "06bf2b1b",
   "metadata": {},
   "source": [
    "---"
   ]
  },
  {
   "cell_type": "markdown",
   "id": "d23dd94f",
   "metadata": {},
   "source": [
    "# Modeling - Unsupervised Approach"
   ]
  },
  {
   "cell_type": "markdown",
   "id": "defad99a",
   "metadata": {},
   "source": [
    "## NMF Initial Training\n",
    "A Non-Negative Matrix Factorization model will be created as a first pass. Since there are 5 article categories to predict, there will be 5 components to solve for in the NMF model. The initial model will be created using the sklearn defaults for NMF."
   ]
  },
  {
   "cell_type": "code",
   "execution_count": 15,
   "id": "07687f5f",
   "metadata": {},
   "outputs": [
    {
     "name": "stdout",
     "output_type": "stream",
     "text": [
      "[[0.00095616 0.03806007 0.00611712 0.00409871 0.05303979]\n",
      " [0.         0.         0.         0.         0.19922213]\n",
      " [0.01243727 0.02107114 0.02796953 0.00060955 0.11679361]\n",
      " ...\n",
      " [0.0064503  0.         0.00242438 0.01271762 0.15459544]\n",
      " [0.         0.         0.2271678  0.00351922 0.0199296 ]\n",
      " [0.00036122 0.         0.09659539 0.         0.        ]]\n"
     ]
    }
   ],
   "source": [
    "np.random.seed(4)\n",
    "nmf = NMF(n_components=5, random_state=4)\n",
    "factored_x_train = nmf.fit_transform(tfidf)\n",
    "print(factored_x_train)"
   ]
  },
  {
   "cell_type": "markdown",
   "id": "81e8d361",
   "metadata": {},
   "source": [
    "To obtain a predicted category, the component with the highest value will be used. Afterwards, the prediucted categories need to be mapped to the original string categories. This will be done by testing every possible permutation of the mapping, and choosing the mapping that leads to the highest accuracy."
   ]
  },
  {
   "cell_type": "code",
   "execution_count": 16,
   "id": "7e43b816",
   "metadata": {},
   "outputs": [
    {
     "name": "stdout",
     "output_type": "stream",
     "text": [
      "Component predictions: [4 4 4 ... 4 2 2]\n"
     ]
    }
   ],
   "source": [
    "y_pred_train = factored_x_train.argmax(axis=1)\n",
    "print('Component predictions:', y_pred_train)"
   ]
  },
  {
   "cell_type": "code",
   "execution_count": 17,
   "id": "c080c57a",
   "metadata": {},
   "outputs": [],
   "source": [
    "def label_permute_compare(y_true_df, y_pred):\n",
    "    \"\"\"\n",
    "    This function is used to determine how to map the predicted categories to the original categories.\n",
    "    y_true_df: dataframe with the true category labels\n",
    "    y_pred: clustering label prediction output (array of integers)\n",
    "\n",
    "    \"\"\"\n",
    "    str_labels = y_true_df['Category'].unique()\n",
    "    n = len(str_labels)\n",
    "    \n",
    "    best_accuracy = 0\n",
    "    best_permutation = None\n",
    "    \n",
    "    #Permute numbers 0 to (n-1) and have a length of n\n",
    "    #Find the mapping that leads to the BEST OVERALL accuracy\n",
    "    #Want to determine which label number each string label should map to.\n",
    "    for perm in itertools.permutations(range(n), n):\n",
    "        replacement_map = dict(zip(str_labels, perm))\n",
    "        new_labels = y_true_df['Category'].replace(replacement_map)\n",
    "        acc = accuracy_score(new_labels.values, y_pred)\n",
    "        #Save the overall best accuracy along with its permutation\n",
    "        if acc > best_accuracy:\n",
    "            best_accuracy = acc\n",
    "            best_permutation = np.array(perm)\n",
    "    \n",
    "    replacement_map = dict(zip(best_permutation, str_labels))\n",
    "    \n",
    "    return replacement_map, best_accuracy"
   ]
  },
  {
   "cell_type": "code",
   "execution_count": 18,
   "id": "af250ed4",
   "metadata": {},
   "outputs": [
    {
     "name": "stdout",
     "output_type": "stream",
     "text": [
      "Accuracy of test set: 91.48%\n"
     ]
    }
   ],
   "source": [
    "replacement_map, test_accuracy = label_permute_compare(df, y_pred_train)\n",
    "print(f'Accuracy of test set: {test_accuracy:.2%}')"
   ]
  },
  {
   "cell_type": "code",
   "execution_count": 19,
   "id": "61e79cea",
   "metadata": {},
   "outputs": [
    {
     "data": {
      "text/html": [
       "<div>\n",
       "<style scoped>\n",
       "    .dataframe tbody tr th:only-of-type {\n",
       "        vertical-align: middle;\n",
       "    }\n",
       "\n",
       "    .dataframe tbody tr th {\n",
       "        vertical-align: top;\n",
       "    }\n",
       "\n",
       "    .dataframe thead th {\n",
       "        text-align: right;\n",
       "    }\n",
       "</style>\n",
       "<table border=\"1\" class=\"dataframe\">\n",
       "  <thead>\n",
       "    <tr style=\"text-align: right;\">\n",
       "      <th></th>\n",
       "      <th>sport</th>\n",
       "      <th>politics</th>\n",
       "      <th>tech</th>\n",
       "      <th>entertainment</th>\n",
       "      <th>business</th>\n",
       "    </tr>\n",
       "  </thead>\n",
       "  <tbody>\n",
       "    <tr>\n",
       "      <th>0</th>\n",
       "      <td>0.000956</td>\n",
       "      <td>0.038060</td>\n",
       "      <td>0.006117</td>\n",
       "      <td>0.004099</td>\n",
       "      <td>0.053040</td>\n",
       "    </tr>\n",
       "    <tr>\n",
       "      <th>1</th>\n",
       "      <td>0.000000</td>\n",
       "      <td>0.000000</td>\n",
       "      <td>0.000000</td>\n",
       "      <td>0.000000</td>\n",
       "      <td>0.199222</td>\n",
       "    </tr>\n",
       "    <tr>\n",
       "      <th>2</th>\n",
       "      <td>0.012437</td>\n",
       "      <td>0.021071</td>\n",
       "      <td>0.027970</td>\n",
       "      <td>0.000610</td>\n",
       "      <td>0.116794</td>\n",
       "    </tr>\n",
       "    <tr>\n",
       "      <th>3</th>\n",
       "      <td>0.000000</td>\n",
       "      <td>0.000000</td>\n",
       "      <td>0.228605</td>\n",
       "      <td>0.000000</td>\n",
       "      <td>0.000000</td>\n",
       "    </tr>\n",
       "    <tr>\n",
       "      <th>4</th>\n",
       "      <td>0.007264</td>\n",
       "      <td>0.005884</td>\n",
       "      <td>0.007406</td>\n",
       "      <td>0.008025</td>\n",
       "      <td>0.070560</td>\n",
       "    </tr>\n",
       "  </tbody>\n",
       "</table>\n",
       "</div>"
      ],
      "text/plain": [
       "      sport  politics      tech  entertainment  business\n",
       "0  0.000956  0.038060  0.006117       0.004099  0.053040\n",
       "1  0.000000  0.000000  0.000000       0.000000  0.199222\n",
       "2  0.012437  0.021071  0.027970       0.000610  0.116794\n",
       "3  0.000000  0.000000  0.228605       0.000000  0.000000\n",
       "4  0.007264  0.005884  0.007406       0.008025  0.070560"
      ]
     },
     "execution_count": 19,
     "metadata": {},
     "output_type": "execute_result"
    }
   ],
   "source": [
    "factored_x_train_categories = pd.DataFrame(factored_x_train,\n",
    "                                           columns=map(lambda x: replacement_map[x], range(5)))\n",
    "factored_x_train_categories.head()"
   ]
  },
  {
   "cell_type": "markdown",
   "id": "0c2c720d",
   "metadata": {},
   "source": [
    "Based on the permutation testing results, we see that the first component maps to the sport category, the second component maps to the politics category, and so on (reference table above). In order to know what the predicted category is, we will just take the category with the highest value."
   ]
  },
  {
   "cell_type": "code",
   "execution_count": 20,
   "id": "6f4ad455",
   "metadata": {},
   "outputs": [
    {
     "name": "stdout",
     "output_type": "stream",
     "text": [
      "0         business\n",
      "1         business\n",
      "2         business\n",
      "3             tech\n",
      "4         business\n",
      "5         politics\n",
      "6            sport\n",
      "7    entertainment\n",
      "8         business\n",
      "9    entertainment\n",
      "dtype: object\n"
     ]
    }
   ],
   "source": [
    "predicted_train_category = factored_x_train_categories.idxmax(axis=1)\n",
    "print(predicted_train_category.head(10))"
   ]
  },
  {
   "cell_type": "code",
   "execution_count": 21,
   "id": "2a84eb39",
   "metadata": {},
   "outputs": [
    {
     "name": "stdout",
     "output_type": "stream",
     "text": [
      "Confusion Matrix\n"
     ]
    },
    {
     "data": {
      "text/html": [
       "<div>\n",
       "<style scoped>\n",
       "    .dataframe tbody tr th:only-of-type {\n",
       "        vertical-align: middle;\n",
       "    }\n",
       "\n",
       "    .dataframe tbody tr th {\n",
       "        vertical-align: top;\n",
       "    }\n",
       "\n",
       "    .dataframe thead th {\n",
       "        text-align: right;\n",
       "    }\n",
       "</style>\n",
       "<table border=\"1\" class=\"dataframe\">\n",
       "  <thead>\n",
       "    <tr style=\"text-align: right;\">\n",
       "      <th></th>\n",
       "      <th>business</th>\n",
       "      <th>tech</th>\n",
       "      <th>politics</th>\n",
       "      <th>sport</th>\n",
       "      <th>entertainment</th>\n",
       "    </tr>\n",
       "    <tr>\n",
       "      <th>Actual Label</th>\n",
       "      <th></th>\n",
       "      <th></th>\n",
       "      <th></th>\n",
       "      <th></th>\n",
       "      <th></th>\n",
       "    </tr>\n",
       "  </thead>\n",
       "  <tbody>\n",
       "    <tr>\n",
       "      <th>business</th>\n",
       "      <td>312</td>\n",
       "      <td>11</td>\n",
       "      <td>11</td>\n",
       "      <td>1</td>\n",
       "      <td>1</td>\n",
       "    </tr>\n",
       "    <tr>\n",
       "      <th>tech</th>\n",
       "      <td>3</td>\n",
       "      <td>249</td>\n",
       "      <td>0</td>\n",
       "      <td>5</td>\n",
       "      <td>4</td>\n",
       "    </tr>\n",
       "    <tr>\n",
       "      <th>politics</th>\n",
       "      <td>20</td>\n",
       "      <td>8</td>\n",
       "      <td>244</td>\n",
       "      <td>2</td>\n",
       "      <td>0</td>\n",
       "    </tr>\n",
       "    <tr>\n",
       "      <th>sport</th>\n",
       "      <td>3</td>\n",
       "      <td>0</td>\n",
       "      <td>0</td>\n",
       "      <td>341</td>\n",
       "      <td>2</td>\n",
       "    </tr>\n",
       "    <tr>\n",
       "      <th>entertainment</th>\n",
       "      <td>7</td>\n",
       "      <td>38</td>\n",
       "      <td>7</td>\n",
       "      <td>4</td>\n",
       "      <td>217</td>\n",
       "    </tr>\n",
       "  </tbody>\n",
       "</table>\n",
       "</div>"
      ],
      "text/plain": [
       "               business  tech  politics  sport  entertainment\n",
       "Actual Label                                                 \n",
       "business            312    11        11      1              1\n",
       "tech                  3   249         0      5              4\n",
       "politics             20     8       244      2              0\n",
       "sport                 3     0         0    341              2\n",
       "entertainment         7    38         7      4            217"
      ]
     },
     "metadata": {},
     "output_type": "display_data"
    }
   ],
   "source": [
    "print('Confusion Matrix')\n",
    "categories = df['Category'].unique()\n",
    "con_mtrx = confusion_matrix(df['Category'], predicted_train_category, labels=categories)\n",
    "con_mtrx = pd.DataFrame(con_mtrx, index=categories, columns=categories) \n",
    "con_mtrx.index.name = 'Actual Label'\n",
    "display(con_mtrx)"
   ]
  },
  {
   "cell_type": "markdown",
   "id": "d89f64d1",
   "metadata": {},
   "source": [
    "From the confusion matrix, we can see that when the actual category is politics, the model sometimes confuses it with business. When the actual category is entertainment, the model sometimes confuses it with tech. Those are the 2 scenarios that produced the highest error."
   ]
  },
  {
   "cell_type": "markdown",
   "id": "c297599d",
   "metadata": {},
   "source": [
    "## Initial Testing\n",
    "Will apply the same transformations as the training set and produce a final prediction. The predictions will be uploaded to Kaggle to determine the resulting accuracy."
   ]
  },
  {
   "cell_type": "code",
   "execution_count": 22,
   "id": "6aa71337",
   "metadata": {},
   "outputs": [],
   "source": [
    "#Remove stop words\n",
    "process_stopwords(submission_test_df)\n",
    "\n",
    "#Transform test set into tfidf\n",
    "tfidf_test = vectorizer.transform(submission_test_df['Text'])\n",
    "\n",
    "#Apply NMF\n",
    "factored_x_test = nmf.transform(tfidf_test)\n",
    "\n",
    "#Record highest value as the predicted category\n",
    "submission_test_df['pred'] = factored_x_test.argmax(axis=1)\n",
    "\n",
    "#Transform predicted category into the mapped string form.\n",
    "#(The mapping was determined during training and will stay the same for testing.)\n",
    "submission_test_df['Category'] = submission_test_df['pred'].replace(replacement_map)\n",
    "\n",
    "#Export table to upload to Kaggle\n",
    "submission_test_df[['ArticleId', 'Category']].to_csv('kaggle_nmf_sub.csv', index=False)"
   ]
  },
  {
   "cell_type": "code",
   "execution_count": 23,
   "id": "f98ab133",
   "metadata": {},
   "outputs": [
    {
     "data": {
      "text/html": [
       "<div>\n",
       "<style scoped>\n",
       "    .dataframe tbody tr th:only-of-type {\n",
       "        vertical-align: middle;\n",
       "    }\n",
       "\n",
       "    .dataframe tbody tr th {\n",
       "        vertical-align: top;\n",
       "    }\n",
       "\n",
       "    .dataframe thead th {\n",
       "        text-align: right;\n",
       "    }\n",
       "</style>\n",
       "<table border=\"1\" class=\"dataframe\">\n",
       "  <thead>\n",
       "    <tr style=\"text-align: right;\">\n",
       "      <th></th>\n",
       "      <th>ArticleId</th>\n",
       "      <th>Text</th>\n",
       "      <th>pred</th>\n",
       "      <th>Category</th>\n",
       "    </tr>\n",
       "  </thead>\n",
       "  <tbody>\n",
       "    <tr>\n",
       "      <th>0</th>\n",
       "      <td>1018</td>\n",
       "      <td>qpr keeper day heads preston queens park range...</td>\n",
       "      <td>0</td>\n",
       "      <td>sport</td>\n",
       "    </tr>\n",
       "    <tr>\n",
       "      <th>1</th>\n",
       "      <td>1319</td>\n",
       "      <td>software watching work software monitor every ...</td>\n",
       "      <td>2</td>\n",
       "      <td>tech</td>\n",
       "    </tr>\n",
       "    <tr>\n",
       "      <th>2</th>\n",
       "      <td>1138</td>\n",
       "      <td>arcy injury adds ireland woe gordon arcy ruled...</td>\n",
       "      <td>0</td>\n",
       "      <td>sport</td>\n",
       "    </tr>\n",
       "    <tr>\n",
       "      <th>3</th>\n",
       "      <td>459</td>\n",
       "      <td>india reliance family feud heats ongoing publi...</td>\n",
       "      <td>4</td>\n",
       "      <td>business</td>\n",
       "    </tr>\n",
       "    <tr>\n",
       "      <th>4</th>\n",
       "      <td>1020</td>\n",
       "      <td>boro suffer morrison injury blow middlesbrough...</td>\n",
       "      <td>0</td>\n",
       "      <td>sport</td>\n",
       "    </tr>\n",
       "    <tr>\n",
       "      <th>...</th>\n",
       "      <td>...</td>\n",
       "      <td>...</td>\n",
       "      <td>...</td>\n",
       "      <td>...</td>\n",
       "    </tr>\n",
       "    <tr>\n",
       "      <th>730</th>\n",
       "      <td>1923</td>\n",
       "      <td>eu probe alitalia state aid european commissio...</td>\n",
       "      <td>4</td>\n",
       "      <td>business</td>\n",
       "    </tr>\n",
       "    <tr>\n",
       "      <th>731</th>\n",
       "      <td>373</td>\n",
       "      <td>u2 play grammy awards show irish rock band u2 ...</td>\n",
       "      <td>3</td>\n",
       "      <td>entertainment</td>\n",
       "    </tr>\n",
       "    <tr>\n",
       "      <th>732</th>\n",
       "      <td>1704</td>\n",
       "      <td>sport betting rules spotlight group mps peers ...</td>\n",
       "      <td>2</td>\n",
       "      <td>tech</td>\n",
       "    </tr>\n",
       "    <tr>\n",
       "      <th>733</th>\n",
       "      <td>206</td>\n",
       "      <td>alfa romeos get gm engines fiat stop making si...</td>\n",
       "      <td>4</td>\n",
       "      <td>business</td>\n",
       "    </tr>\n",
       "    <tr>\n",
       "      <th>734</th>\n",
       "      <td>471</td>\n",
       "      <td>citizenship event 18s touted citizenship cerem...</td>\n",
       "      <td>1</td>\n",
       "      <td>politics</td>\n",
       "    </tr>\n",
       "  </tbody>\n",
       "</table>\n",
       "<p>735 rows × 4 columns</p>\n",
       "</div>"
      ],
      "text/plain": [
       "     ArticleId                                               Text  pred  \\\n",
       "0         1018  qpr keeper day heads preston queens park range...     0   \n",
       "1         1319  software watching work software monitor every ...     2   \n",
       "2         1138  arcy injury adds ireland woe gordon arcy ruled...     0   \n",
       "3          459  india reliance family feud heats ongoing publi...     4   \n",
       "4         1020  boro suffer morrison injury blow middlesbrough...     0   \n",
       "..         ...                                                ...   ...   \n",
       "730       1923  eu probe alitalia state aid european commissio...     4   \n",
       "731        373  u2 play grammy awards show irish rock band u2 ...     3   \n",
       "732       1704  sport betting rules spotlight group mps peers ...     2   \n",
       "733        206  alfa romeos get gm engines fiat stop making si...     4   \n",
       "734        471  citizenship event 18s touted citizenship cerem...     1   \n",
       "\n",
       "          Category  \n",
       "0            sport  \n",
       "1             tech  \n",
       "2            sport  \n",
       "3         business  \n",
       "4            sport  \n",
       "..             ...  \n",
       "730       business  \n",
       "731  entertainment  \n",
       "732           tech  \n",
       "733       business  \n",
       "734       politics  \n",
       "\n",
       "[735 rows x 4 columns]"
      ]
     },
     "metadata": {},
     "output_type": "display_data"
    }
   ],
   "source": [
    "display(submission_test_df)"
   ]
  },
  {
   "attachments": {
    "image.png": {
     "image/png": "[encoded data removed]"
    }
   },
   "cell_type": "markdown",
   "id": "bfb22874",
   "metadata": {},
   "source": [
    "![image.png](attachment:image.png)"
   ]
  },
  {
   "cell_type": "markdown",
   "id": "8da90711",
   "metadata": {},
   "source": [
    "The Kaggle submission resulted in an accuracy of about 92%. I will now attempt to fine tune the model to see if a higher score is possible."
   ]
  },
  {
   "cell_type": "markdown",
   "id": "00202dca",
   "metadata": {},
   "source": [
    "## Train with Alternate Hyper-parameters\n",
    "We will now test out different hyper-parameters in the NMF model while keeping the TF-IDF static. The best hyper-parameter is determined by choosing the model with the highest accuracy."
   ]
  },
  {
   "cell_type": "code",
   "execution_count": 24,
   "id": "db54060e",
   "metadata": {},
   "outputs": [],
   "source": [
    "def test_hyperparameters(tfidf, df):\n",
    "    \"\"\"\n",
    "    tfidf: The TF-IDF\n",
    "    df: The testing dataframe\n",
    "    \n",
    "    Runs hyper-parameter testing for the NMF model.\n",
    "    When running the tests, the components will also need to be remapped into the string categories.\n",
    "    For the model with the highest accuracy, the function returns:\n",
    "        (chosen hyper-parameters, nmf object, accuracy score, replacement mapping dictionary)\n",
    "    \"\"\"\n",
    "    #Param order will be: init, solver, beta_loss\n",
    "    #Only parameter combinations that result in no errors are defined.\n",
    "    param_grid = [\n",
    "        ('random', 'cd', 'frobenius'),\n",
    "        ('random', 'mu', 'frobenius'), ('random', 'mu', 'kullback-leibler'),\n",
    "        ('nndsvd', 'cd', 'frobenius'),\n",
    "        ('nndsvda', 'cd', 'frobenius'),\n",
    "        ('nndsvda', 'mu', 'frobenius'), ('nndsvda', 'mu', 'kullback-leibler'),\n",
    "    ]\n",
    "    \n",
    "    acc_scores = []\n",
    "    replacement_maps = []\n",
    "    nmf_objs = []\n",
    "    \n",
    "    for init, solver, beta_loss in param_grid:\n",
    "        np.random.seed(4)\n",
    "        nmf_grid = NMF(n_components=5, random_state=4, init=init, solver=solver, beta_loss=beta_loss)\n",
    "        factored_grid = nmf_grid.fit_transform(tfidf)\n",
    "        y_pred_grid = factored_grid.argmax(axis=1)\n",
    "        grid_replacement_map, grid_accuracy = label_permute_compare(df, y_pred_grid)\n",
    "        print(f'Parameters: init={init}, solver={solver}, beta_loss={beta_loss} | Accuracy = {grid_accuracy:.2%}')\n",
    "        nmf_objs.append(nmf_grid)\n",
    "        replacement_maps.append(grid_replacement_map)\n",
    "        acc_scores.append(grid_accuracy)\n",
    "    \n",
    "    max_score_idx = np.array(acc_scores).argmax()\n",
    "    return param_grid[max_score_idx], nmf_objs[max_score_idx], acc_scores[max_score_idx], replacement_maps[max_score_idx]"
   ]
  },
  {
   "cell_type": "code",
   "execution_count": 25,
   "id": "36536fc9",
   "metadata": {},
   "outputs": [
    {
     "name": "stdout",
     "output_type": "stream",
     "text": [
      "Parameters: init=random, solver=cd, beta_loss=frobenius | Accuracy = 88.66%\n",
      "Parameters: init=random, solver=mu, beta_loss=frobenius | Accuracy = 90.20%\n",
      "Parameters: init=random, solver=mu, beta_loss=kullback-leibler | Accuracy = 51.81%\n",
      "Parameters: init=nndsvd, solver=cd, beta_loss=frobenius | Accuracy = 91.48%\n",
      "Parameters: init=nndsvda, solver=cd, beta_loss=frobenius | Accuracy = 91.48%\n",
      "Parameters: init=nndsvda, solver=mu, beta_loss=frobenius | Accuracy = 91.21%\n",
      "Parameters: init=nndsvda, solver=mu, beta_loss=kullback-leibler | Accuracy = 93.83%\n"
     ]
    }
   ],
   "source": [
    "best_params, nmf_grid, best_accuracy, best_replacement_map = test_hyperparameters(tfidf, df)"
   ]
  },
  {
   "cell_type": "code",
   "execution_count": 26,
   "id": "517d946a",
   "metadata": {},
   "outputs": [
    {
     "name": "stdout",
     "output_type": "stream",
     "text": [
      "Best hyper-parameters: ('nndsvda', 'mu', 'kullback-leibler')\n",
      "Best resulting accuracy: 93.83%\n"
     ]
    }
   ],
   "source": [
    "print('Best hyper-parameters:', best_params)\n",
    "print(f'Best resulting accuracy: {best_accuracy:.2%}')"
   ]
  },
  {
   "cell_type": "code",
   "execution_count": 27,
   "id": "903438f2",
   "metadata": {},
   "outputs": [
    {
     "data": {
      "text/html": [
       "<div>\n",
       "<style scoped>\n",
       "    .dataframe tbody tr th:only-of-type {\n",
       "        vertical-align: middle;\n",
       "    }\n",
       "\n",
       "    .dataframe tbody tr th {\n",
       "        vertical-align: top;\n",
       "    }\n",
       "\n",
       "    .dataframe thead th {\n",
       "        text-align: right;\n",
       "    }\n",
       "</style>\n",
       "<table border=\"1\" class=\"dataframe\">\n",
       "  <thead>\n",
       "    <tr style=\"text-align: right;\">\n",
       "      <th></th>\n",
       "      <th>sport</th>\n",
       "      <th>politics</th>\n",
       "      <th>tech</th>\n",
       "      <th>entertainment</th>\n",
       "      <th>business</th>\n",
       "    </tr>\n",
       "  </thead>\n",
       "  <tbody>\n",
       "    <tr>\n",
       "      <th>0</th>\n",
       "      <td>1.212661e-11</td>\n",
       "      <td>5.075217e-07</td>\n",
       "      <td>2.378640e-08</td>\n",
       "      <td>3.064037e-06</td>\n",
       "      <td>1.000580e-01</td>\n",
       "    </tr>\n",
       "    <tr>\n",
       "      <th>1</th>\n",
       "      <td>1.482779e-14</td>\n",
       "      <td>2.057415e-09</td>\n",
       "      <td>3.171019e-13</td>\n",
       "      <td>4.038319e-17</td>\n",
       "      <td>1.228179e-01</td>\n",
       "    </tr>\n",
       "    <tr>\n",
       "      <th>2</th>\n",
       "      <td>6.566498e-08</td>\n",
       "      <td>3.501638e-02</td>\n",
       "      <td>4.259976e-05</td>\n",
       "      <td>4.795973e-09</td>\n",
       "      <td>1.026043e-01</td>\n",
       "    </tr>\n",
       "    <tr>\n",
       "      <th>3</th>\n",
       "      <td>2.845707e-13</td>\n",
       "      <td>6.917596e-11</td>\n",
       "      <td>1.492033e-01</td>\n",
       "      <td>2.877338e-12</td>\n",
       "      <td>1.872945e-12</td>\n",
       "    </tr>\n",
       "    <tr>\n",
       "      <th>4</th>\n",
       "      <td>1.949311e-08</td>\n",
       "      <td>1.096467e-04</td>\n",
       "      <td>1.251408e-07</td>\n",
       "      <td>2.885661e-09</td>\n",
       "      <td>1.213518e-01</td>\n",
       "    </tr>\n",
       "  </tbody>\n",
       "</table>\n",
       "</div>"
      ],
      "text/plain": [
       "          sport      politics          tech  entertainment      business\n",
       "0  1.212661e-11  5.075217e-07  2.378640e-08   3.064037e-06  1.000580e-01\n",
       "1  1.482779e-14  2.057415e-09  3.171019e-13   4.038319e-17  1.228179e-01\n",
       "2  6.566498e-08  3.501638e-02  4.259976e-05   4.795973e-09  1.026043e-01\n",
       "3  2.845707e-13  6.917596e-11  1.492033e-01   2.877338e-12  1.872945e-12\n",
       "4  1.949311e-08  1.096467e-04  1.251408e-07   2.885661e-09  1.213518e-01"
      ]
     },
     "execution_count": 27,
     "metadata": {},
     "output_type": "execute_result"
    }
   ],
   "source": [
    "factored_grid = nmf_grid.transform(tfidf)\n",
    "factored_grid_categories = pd.DataFrame(factored_grid,\n",
    "                                        columns=map(lambda x: best_replacement_map[x], range(5)))\n",
    "factored_grid_categories.head()"
   ]
  },
  {
   "cell_type": "markdown",
   "id": "1e9c382a",
   "metadata": {},
   "source": [
    "We can see that the string article names, map to the same component indices as the initial NMF model from before."
   ]
  },
  {
   "cell_type": "code",
   "execution_count": 28,
   "id": "6a5dc840",
   "metadata": {},
   "outputs": [
    {
     "name": "stdout",
     "output_type": "stream",
     "text": [
      "Confusion Matrix\n"
     ]
    },
    {
     "data": {
      "text/html": [
       "<div>\n",
       "<style scoped>\n",
       "    .dataframe tbody tr th:only-of-type {\n",
       "        vertical-align: middle;\n",
       "    }\n",
       "\n",
       "    .dataframe tbody tr th {\n",
       "        vertical-align: top;\n",
       "    }\n",
       "\n",
       "    .dataframe thead th {\n",
       "        text-align: right;\n",
       "    }\n",
       "</style>\n",
       "<table border=\"1\" class=\"dataframe\">\n",
       "  <thead>\n",
       "    <tr style=\"text-align: right;\">\n",
       "      <th></th>\n",
       "      <th>business</th>\n",
       "      <th>tech</th>\n",
       "      <th>politics</th>\n",
       "      <th>sport</th>\n",
       "      <th>entertainment</th>\n",
       "    </tr>\n",
       "    <tr>\n",
       "      <th>Actual Label</th>\n",
       "      <th></th>\n",
       "      <th></th>\n",
       "      <th></th>\n",
       "      <th></th>\n",
       "      <th></th>\n",
       "    </tr>\n",
       "  </thead>\n",
       "  <tbody>\n",
       "    <tr>\n",
       "      <th>business</th>\n",
       "      <td>301</td>\n",
       "      <td>20</td>\n",
       "      <td>9</td>\n",
       "      <td>4</td>\n",
       "      <td>2</td>\n",
       "    </tr>\n",
       "    <tr>\n",
       "      <th>tech</th>\n",
       "      <td>2</td>\n",
       "      <td>244</td>\n",
       "      <td>2</td>\n",
       "      <td>8</td>\n",
       "      <td>5</td>\n",
       "    </tr>\n",
       "    <tr>\n",
       "      <th>politics</th>\n",
       "      <td>6</td>\n",
       "      <td>1</td>\n",
       "      <td>257</td>\n",
       "      <td>8</td>\n",
       "      <td>2</td>\n",
       "    </tr>\n",
       "    <tr>\n",
       "      <th>sport</th>\n",
       "      <td>0</td>\n",
       "      <td>0</td>\n",
       "      <td>0</td>\n",
       "      <td>344</td>\n",
       "      <td>2</td>\n",
       "    </tr>\n",
       "    <tr>\n",
       "      <th>entertainment</th>\n",
       "      <td>1</td>\n",
       "      <td>8</td>\n",
       "      <td>1</td>\n",
       "      <td>11</td>\n",
       "      <td>252</td>\n",
       "    </tr>\n",
       "  </tbody>\n",
       "</table>\n",
       "</div>"
      ],
      "text/plain": [
       "               business  tech  politics  sport  entertainment\n",
       "Actual Label                                                 \n",
       "business            301    20         9      4              2\n",
       "tech                  2   244         2      8              5\n",
       "politics              6     1       257      8              2\n",
       "sport                 0     0         0    344              2\n",
       "entertainment         1     8         1     11            252"
      ]
     },
     "metadata": {},
     "output_type": "display_data"
    }
   ],
   "source": [
    "print('Confusion Matrix')\n",
    "categories = df['Category'].unique()\n",
    "predicted_grid_category = factored_grid_categories.idxmax(axis=1)\n",
    "con_grid_mtrx = confusion_matrix(df['Category'], predicted_grid_category, labels=categories)\n",
    "con_grid_mtrx = pd.DataFrame(con_grid_mtrx, index=categories, columns=categories)\n",
    "con_grid_mtrx.index.name = 'Actual Label'\n",
    "display(con_grid_mtrx)"
   ]
  },
  {
   "cell_type": "markdown",
   "id": "a91e9fb0",
   "metadata": {},
   "source": [
    "The confusion matrix results appear slightly better when compared to the initial modeling run."
   ]
  },
  {
   "cell_type": "markdown",
   "id": "d91170d5",
   "metadata": {},
   "source": [
    "## Test Best NMF Model\n",
    "Obtain the accuracy of the on the Kaggle test data."
   ]
  },
  {
   "cell_type": "code",
   "execution_count": 29,
   "id": "fa4d696c",
   "metadata": {},
   "outputs": [],
   "source": [
    "#Apply NMF\n",
    "factored_x_test = nmf_grid.transform(tfidf_test)\n",
    "\n",
    "#Record highest value as the predicted category\n",
    "submission_test_df['pred'] = factored_x_test.argmax(axis=1)\n",
    "\n",
    "#Transform predicted category into the mapped string form.\n",
    "submission_test_df['Category'] = submission_test_df['pred'].replace(best_replacement_map)\n",
    "\n",
    "#Export table to upload to Kaggle\n",
    "submission_test_df[['ArticleId', 'Category']].to_csv('kaggle_nmf_grid_sub.csv', index=False)"
   ]
  },
  {
   "attachments": {
    "image.png": {
     "image/png": "[encoded data removed]"
    }
   },
   "cell_type": "markdown",
   "id": "c6612939",
   "metadata": {},
   "source": [
    "![image.png](attachment:image.png)"
   ]
  },
  {
   "cell_type": "markdown",
   "id": "691727c5",
   "metadata": {},
   "source": [
    "This new model resulted in a better score. Since 95% accuracy is quite good, this will be considered the final NMF model."
   ]
  },
  {
   "cell_type": "markdown",
   "id": "defc4892",
   "metadata": {},
   "source": [
    "---"
   ]
  },
  {
   "cell_type": "markdown",
   "id": "eca1285c",
   "metadata": {},
   "source": [
    "# Modeling - Supervised Approach"
   ]
  },
  {
   "cell_type": "markdown",
   "id": "356c2d68",
   "metadata": {},
   "source": [
    "## Random Forest\n",
    "Since there are a lot of features, a random forest model will be used. In order to determine the best random forest model, grid search will be used to determine the hyper-parameters."
   ]
  },
  {
   "cell_type": "code",
   "execution_count": 30,
   "id": "5f8f434c",
   "metadata": {},
   "outputs": [],
   "source": [
    "X_train = tfidf.toarray()\n",
    "y_train = pd.get_dummies(df['Category'])"
   ]
  },
  {
   "cell_type": "code",
   "execution_count": 31,
   "id": "9bc02cbb",
   "metadata": {},
   "outputs": [
    {
     "name": "stdout",
     "output_type": "stream",
     "text": [
      "Grid Search Parameters:\n"
     ]
    },
    {
     "data": {
      "text/plain": [
       "{'max_depth': array([20, 26, 32, 38, 44, 50]),\n",
       " 'n_estimators': array([ 50, 140, 230, 320, 410, 500])}"
      ]
     },
     "metadata": {},
     "output_type": "display_data"
    }
   ],
   "source": [
    "param_grid = {'max_depth':np.linspace(20,50,6,dtype=int),\n",
    "             'n_estimators':np.linspace(50,500,6,dtype=int)}\n",
    "print(\"Grid Search Parameters:\")\n",
    "display(param_grid)"
   ]
  },
  {
   "cell_type": "code",
   "execution_count": 32,
   "id": "d1ed5ab4",
   "metadata": {},
   "outputs": [
    {
     "name": "stdout",
     "output_type": "stream",
     "text": [
      "Fitting 3 folds for each of 36 candidates, totalling 108 fits\n"
     ]
    }
   ],
   "source": [
    "base_model = RandomForestClassifier(random_state=4)\n",
    "grid = GridSearchCV(base_model, param_grid=param_grid, cv=3, n_jobs=-1, verbose=1).fit(X_train, y_train)"
   ]
  },
  {
   "cell_type": "code",
   "execution_count": 33,
   "id": "6bc4317d",
   "metadata": {},
   "outputs": [
    {
     "name": "stdout",
     "output_type": "stream",
     "text": [
      "Best parameters found with grid search: {'max_depth': 50, 'n_estimators': 320}\n",
      "Cross-validation score using the best parameters: 0.7866\n"
     ]
    }
   ],
   "source": [
    "print(f\"Best parameters found with grid search: {grid.best_params_}\")\n",
    "print(f\"Cross-validation score using the best parameters: {grid.best_score_:.4f}\")"
   ]
  },
  {
   "cell_type": "code",
   "execution_count": 34,
   "id": "fcffea6a",
   "metadata": {},
   "outputs": [
    {
     "name": "stdout",
     "output_type": "stream",
     "text": [
      "Random Forest Training Accuracy (using best parameters): 1.0000\n"
     ]
    }
   ],
   "source": [
    "rand_model = grid.best_estimator_\n",
    "y_pred_train = rand_model.predict(X_train)\n",
    "print(f\"Random Forest Training Accuracy (using best parameters): {accuracy_score(y_pred_train, y_train):.4f}\")"
   ]
  },
  {
   "cell_type": "code",
   "execution_count": 35,
   "id": "d8e4f874",
   "metadata": {},
   "outputs": [
    {
     "data": {
      "image/png": "[encoded data removed]",
      "text/plain": [
       "<Figure size 640x480 with 1 Axes>"
      ]
     },
     "metadata": {},
     "output_type": "display_data"
    }
   ],
   "source": [
    "grid_shape = param_grid['max_depth'].shape[0], param_grid['n_estimators'].shape[0]\n",
    "grid_scores = np.array(grid.cv_results_['mean_test_score']).reshape(grid_shape)\n",
    "for depth in range(grid_shape[0]):\n",
    "    plt.plot(param_grid['n_estimators'], grid_scores[depth], label=f\"max_depth: {param_grid['max_depth'][depth]}\")\n",
    "\n",
    "plt.legend(loc=1, bbox_to_anchor=(1.35, 1))\n",
    "plt.title('Random Forest Grid Search Accuracy Results')\n",
    "plt.xlabel('Number of Estimators')\n",
    "plt.ylabel('Cross-validation Accuracy')\n",
    "plt.show()"
   ]
  },
  {
   "cell_type": "markdown",
   "id": "defc5d83",
   "metadata": {},
   "source": [
    "Based on the grid search results, the best model would use a max_depth of **50** and n_estimatiors of **320**. Instead of doing this, I will use a max_depth of **32** with n_estimators of **50**. I chose these alternate hyperparameters since chosing higher values, do not lead to significant increases in accuracy. We can see from the graph above that accuracy doesn't increase by much after a max_depth of 32. The graph line for max_depth of 32 stays fairly consistant for all n_estimators values. Choosing these altername hyper-parameters will reduce the risk of overfitting."
   ]
  },
  {
   "cell_type": "markdown",
   "id": "d4260348",
   "metadata": {},
   "source": [
    "## Evaluate Alternate Random Forest Model"
   ]
  },
  {
   "cell_type": "code",
   "execution_count": 36,
   "id": "01c8ff5a",
   "metadata": {},
   "outputs": [
    {
     "name": "stdout",
     "output_type": "stream",
     "text": [
      "Random Forest Training Accuracy (using alternate parameters): 0.9886\n"
     ]
    }
   ],
   "source": [
    "np.random.seed(4)\n",
    "rand_model = RandomForestClassifier(random_state=4, max_depth=32, n_estimators=50)\n",
    "rand_model.fit(X_train, y_train)\n",
    "y_pred_train = rand_model.predict(X_train)\n",
    "print(f\"Random Forest Training Accuracy (using alternate parameters): {accuracy_score(y_pred_train, y_train):.4f}\")"
   ]
  },
  {
   "cell_type": "code",
   "execution_count": 37,
   "id": "0e585032",
   "metadata": {},
   "outputs": [],
   "source": [
    "y_pred_test = rand_model.predict(tfidf_test.toarray())\n",
    "y_pred_test = pd.DataFrame(y_pred_test, columns=y_train.columns)\n",
    "submission_test_df['Category'] = y_pred_test.idxmax(axis=1)\n",
    "submission_test_df[['ArticleId', 'Category']].to_csv('kaggle_rand_forrest_sub.csv', index=False)"
   ]
  },
  {
   "attachments": {
    "image.png": {
     "image/png": "[encoded data removed]"
    }
   },
   "cell_type": "markdown",
   "id": "83dcd59d",
   "metadata": {},
   "source": [
    "![image.png](attachment:image.png)"
   ]
  },
  {
   "cell_type": "markdown",
   "id": "bc312898",
   "metadata": {},
   "source": [
    "Overall, the random forest model performed fine. It was not as good as the NMF model since the accuracy is more than 10% lower."
   ]
  },
  {
   "cell_type": "markdown",
   "id": "b4dc5f62",
   "metadata": {},
   "source": [
    "## Further Comparisons between Unsupervised and Supervised"
   ]
  },
  {
   "cell_type": "markdown",
   "id": "50705f09",
   "metadata": {},
   "source": [
    "First, lets make smaller versions of the initial dataset that has 10, 20, and 50 percent of the data."
   ]
  },
  {
   "cell_type": "code",
   "execution_count": 38,
   "id": "c0cb6d72",
   "metadata": {},
   "outputs": [],
   "source": [
    "dfs = dict()\n",
    "tfidfs = dict()\n",
    "vectorizers = dict()\n",
    "for percentage in [10, 20, 50]:\n",
    "    dfs[percentage] = df.sample(frac=percentage/100, random_state=4).copy()\n",
    "    process_stopwords(dfs[percentage])\n",
    "    vectorizers[percentage] = TfidfVectorizer()\n",
    "    tfidfs[percentage] = vectorizers[percentage].fit_transform(dfs[percentage]['Text'])"
   ]
  },
  {
   "cell_type": "markdown",
   "id": "26759a2f",
   "metadata": {},
   "source": [
    "### NMF Modeling"
   ]
  },
  {
   "cell_type": "markdown",
   "id": "c545e4b9",
   "metadata": {},
   "source": [
    "Now, for every dataset, choose an NMF model that provides the best accuracy."
   ]
  },
  {
   "cell_type": "code",
   "execution_count": 39,
   "id": "6d8a71cd",
   "metadata": {},
   "outputs": [
    {
     "name": "stdout",
     "output_type": "stream",
     "text": [
      "Training NMF model using 10% of the dataset.\n",
      "Parameters: init=random, solver=cd, beta_loss=frobenius | Accuracy = 84.56%\n",
      "Parameters: init=random, solver=mu, beta_loss=frobenius | Accuracy = 87.25%\n",
      "Parameters: init=random, solver=mu, beta_loss=kullback-leibler | Accuracy = 27.52%\n",
      "Parameters: init=nndsvd, solver=cd, beta_loss=frobenius | Accuracy = 85.91%\n",
      "Parameters: init=nndsvda, solver=cd, beta_loss=frobenius | Accuracy = 85.91%\n",
      "Parameters: init=nndsvda, solver=mu, beta_loss=frobenius | Accuracy = 87.25%\n",
      "Parameters: init=nndsvda, solver=mu, beta_loss=kullback-leibler | Accuracy = 79.19%\n",
      "---------------------------\n",
      "Training NMF model using 20% of the dataset.\n",
      "Parameters: init=random, solver=cd, beta_loss=frobenius | Accuracy = 71.48%\n",
      "Parameters: init=random, solver=mu, beta_loss=frobenius | Accuracy = 71.48%\n",
      "Parameters: init=random, solver=mu, beta_loss=kullback-leibler | Accuracy = 31.54%\n",
      "Parameters: init=nndsvd, solver=cd, beta_loss=frobenius | Accuracy = 89.93%\n",
      "Parameters: init=nndsvda, solver=cd, beta_loss=frobenius | Accuracy = 90.27%\n",
      "Parameters: init=nndsvda, solver=mu, beta_loss=frobenius | Accuracy = 89.60%\n",
      "Parameters: init=nndsvda, solver=mu, beta_loss=kullback-leibler | Accuracy = 76.51%\n",
      "---------------------------\n",
      "Training NMF model using 50% of the dataset.\n",
      "Parameters: init=random, solver=cd, beta_loss=frobenius | Accuracy = 64.30%\n",
      "Parameters: init=random, solver=mu, beta_loss=frobenius | Accuracy = 87.25%\n",
      "Parameters: init=random, solver=mu, beta_loss=kullback-leibler | Accuracy = 61.88%\n",
      "Parameters: init=nndsvd, solver=cd, beta_loss=frobenius | Accuracy = 87.65%\n",
      "Parameters: init=nndsvda, solver=cd, beta_loss=frobenius | Accuracy = 87.65%\n",
      "Parameters: init=nndsvda, solver=mu, beta_loss=frobenius | Accuracy = 86.31%\n",
      "Parameters: init=nndsvda, solver=mu, beta_loss=kullback-leibler | Accuracy = 87.79%\n",
      "---------------------------\n"
     ]
    }
   ],
   "source": [
    "nmf_results = dict()\n",
    "for percentage in [10, 20, 50]:\n",
    "    print(f'Training NMF model using {percentage}% of the dataset.')\n",
    "    #best_params, nmf_grid, best_accuracy, best_replacement_map\n",
    "    nmf_results[percentage] = test_hyperparameters(tfidfs[percentage], dfs[percentage])\n",
    "    print('---------------------------')"
   ]
  },
  {
   "cell_type": "markdown",
   "id": "41725619",
   "metadata": {},
   "source": [
    "- When using 10% of the dataset, the best NMF model uses these hyper-parameters: init=random, solver=mu, beta_loss=frobenius with a resulting accuracy of 87.25%.\n",
    "- When using 20% of the dataset, the best NMF model uses these hyper-parameters: init=nndsvda, solver=cd, beta_loss=frobenius with a resulting accuracy of 90.27%.\n",
    "- When using 50% of the dataset, the best NMF model uses these hyper-parameters: init=nndsvda, solver=mu, beta_loss=kullback-leibler with a resulting accuracy of 87.79%.\n",
    "\n",
    "Based on these training results, the NMF model works quite well with smaller datasets. We will now take a look at the test accuracy when uploading the predictions to Kaggle."
   ]
  },
  {
   "cell_type": "code",
   "execution_count": 40,
   "id": "7f4cd8d4",
   "metadata": {},
   "outputs": [],
   "source": [
    "tfidf_tests = dict()\n",
    "for percentage in [10, 20, 50]:\n",
    "    nmf_grid = nmf_results[percentage][1]\n",
    "    replacement_map = nmf_results[percentage][3]\n",
    "    \n",
    "    #Transform test set into tfidf\n",
    "    tfidf_tests[percentage] = vectorizers[percentage].transform(submission_test_df['Text'])\n",
    "    \n",
    "    #Apply NMF\n",
    "    factored_x_test = nmf_grid.transform(tfidf_tests[percentage])\n",
    "\n",
    "    #Record highest value as the predicted category\n",
    "    submission_test_df['pred'] = factored_x_test.argmax(axis=1)\n",
    "\n",
    "    #Transform predicted category into the mapped string form.\n",
    "    submission_test_df['Category'] = submission_test_df['pred'].replace(replacement_map)\n",
    "\n",
    "    #Export table to upload to Kaggle\n",
    "    submission_test_df[['ArticleId', 'Category']].to_csv(f'{percentage}_kaggle_nmf_sub.csv', index=False)"
   ]
  },
  {
   "attachments": {
    "image.png": {
     "image/png": "[encoded data removed]"
    }
   },
   "cell_type": "markdown",
   "id": "81b9073f",
   "metadata": {},
   "source": [
    "10% of Data\n",
    "![image.png](attachment:image.png)"
   ]
  },
  {
   "attachments": {
    "image.png": {
     "image/png": "[encoded data removed]"
    }
   },
   "cell_type": "markdown",
   "id": "846ba051",
   "metadata": {},
   "source": [
    "20% of Data\n",
    "![image.png](attachment:image.png)"
   ]
  },
  {
   "attachments": {
    "image.png": {
     "image/png": "[encoded data removed]"
    }
   },
   "cell_type": "markdown",
   "id": "2f1d2b4b",
   "metadata": {},
   "source": [
    "50% of Data\n",
    "![image.png](attachment:image.png)"
   ]
  },
  {
   "cell_type": "markdown",
   "id": "5844c505",
   "metadata": {},
   "source": [
    "The results for the NMF model are quite good with fairly high accuracy across all data usage percentages. All of these results beat out the best surpervised learning approach as well. These model also appear to not overfit since the training and testing accuracy are close in value."
   ]
  },
  {
   "cell_type": "markdown",
   "id": "d5c433bb",
   "metadata": {},
   "source": [
    "### Random Forest Modeling\n",
    "Since this is only looking at how the model changes based on the percentage of data used, I will pick the best model provided by grid search for each percentage."
   ]
  },
  {
   "cell_type": "code",
   "execution_count": 41,
   "id": "499c2ccb",
   "metadata": {},
   "outputs": [
    {
     "name": "stdout",
     "output_type": "stream",
     "text": [
      "Grid Search Parameters:\n"
     ]
    },
    {
     "data": {
      "text/plain": [
       "{'max_depth': array([10, 18, 26, 34, 42, 50]),\n",
       " 'n_estimators': array([ 50, 100, 150, 200, 250, 300])}"
      ]
     },
     "metadata": {},
     "output_type": "display_data"
    }
   ],
   "source": [
    "param_grid = {'max_depth':np.linspace(10,50,6,dtype=int),\n",
    "             'n_estimators':np.linspace(50,300,6,dtype=int)}\n",
    "print(\"Grid Search Parameters:\")\n",
    "display(param_grid)"
   ]
  },
  {
   "cell_type": "code",
   "execution_count": 42,
   "id": "20320f4f",
   "metadata": {},
   "outputs": [
    {
     "name": "stdout",
     "output_type": "stream",
     "text": [
      "Training Random Forest model using 10% of the dataset.\n",
      "Fitting 3 folds for each of 36 candidates, totalling 108 fits\n",
      "Best parameters found with grid search: {'max_depth': 26, 'n_estimators': 100}\n",
      "Cross-validation score using the best parameters: 0.3419\n",
      "Random Forest Training Accuracy (using best parameters): 1.0000\n",
      "---------------------------\n",
      "Training Random Forest model using 20% of the dataset.\n",
      "Fitting 3 folds for each of 36 candidates, totalling 108 fits\n",
      "Best parameters found with grid search: {'max_depth': 26, 'n_estimators': 50}\n",
      "Cross-validation score using the best parameters: 0.5132\n",
      "Random Forest Training Accuracy (using best parameters): 1.0000\n",
      "---------------------------\n",
      "Training Random Forest model using 50% of the dataset.\n",
      "Fitting 3 folds for each of 36 candidates, totalling 108 fits\n",
      "Best parameters found with grid search: {'max_depth': 50, 'n_estimators': 250}\n",
      "Cross-validation score using the best parameters: 0.6939\n",
      "Random Forest Training Accuracy (using best parameters): 1.0000\n",
      "---------------------------\n"
     ]
    }
   ],
   "source": [
    "grids = dict()\n",
    "rand_models = dict()\n",
    "for percentage in [10, 20, 50]:\n",
    "    print(f'Training Random Forest model using {percentage}% of the dataset.')\n",
    "    X_train = tfidfs[percentage].toarray()\n",
    "    y_train = pd.get_dummies(dfs[percentage]['Category'])\n",
    "    \n",
    "    base_model = RandomForestClassifier(random_state=4)\n",
    "    grids[percentage] = GridSearchCV(base_model, param_grid=param_grid, cv=3, n_jobs=-1, verbose=1).fit(X_train,\n",
    "                                                                                                        y_train)\n",
    "    \n",
    "    print(f\"Best parameters found with grid search: {grids[percentage].best_params_}\")\n",
    "    print(f\"Cross-validation score using the best parameters: {grids[percentage].best_score_:.4f}\")\n",
    "    rand_models[percentage] = grids[percentage].best_estimator_\n",
    "    y_pred_train = rand_models[percentage].predict(X_train)\n",
    "    print(f\"Random Forest Training Accuracy (using best parameters): {accuracy_score(y_pred_train, y_train):.4f}\")\n",
    "    print('---------------------------')"
   ]
  },
  {
   "cell_type": "markdown",
   "id": "fc77df32",
   "metadata": {},
   "source": [
    "When training the random forest model, the amount of data used seems to heavily affect the resulting accuracy. The cross-validation scores are all rather low, which means once the predictions are uploaded to Kaggle, the accuracies will likely still be low. The training accuracy in all cases are at 100% which signals overfitting. So far, a supervised approach does not appear to be a good method."
   ]
  },
  {
   "cell_type": "markdown",
   "id": "6dd10d67",
   "metadata": {},
   "source": [
    "We will now take a look at the test accuracy when uploading the predictions to Kaggle."
   ]
  },
  {
   "cell_type": "code",
   "execution_count": 43,
   "id": "79d5373f",
   "metadata": {},
   "outputs": [],
   "source": [
    "for percentage in [10, 20, 50]:\n",
    "    y_pred_test = rand_models[percentage].predict(tfidf_tests[percentage].toarray())\n",
    "    y_pred_test = pd.DataFrame(y_pred_test, columns=y_train.columns)\n",
    "    submission_test_df['Category'] = y_pred_test.idxmax(axis=1)\n",
    "    submission_test_df[['ArticleId', 'Category']].to_csv(f'{percentage}_kaggle_rand_forrest_sub.csv', index=False)"
   ]
  },
  {
   "attachments": {
    "image.png": {
     "image/png": "[encoded data removed]"
    }
   },
   "cell_type": "markdown",
   "id": "ed94191c",
   "metadata": {},
   "source": [
    "10% of Data\n",
    "![image.png](attachment:image.png)"
   ]
  },
  {
   "attachments": {
    "image.png": {
     "image/png": "[encoded data removed]"
    }
   },
   "cell_type": "markdown",
   "id": "252c1dd3",
   "metadata": {},
   "source": [
    "20% of Data\n",
    "![image.png](attachment:image.png)"
   ]
  },
  {
   "attachments": {
    "image.png": {
     "image/png": "[encoded data removed]"
    }
   },
   "cell_type": "markdown",
   "id": "5e059a75",
   "metadata": {},
   "source": [
    "50% of Data\n",
    "![image.png](attachment:image.png)"
   ]
  },
  {
   "cell_type": "markdown",
   "id": "d9ecca7a",
   "metadata": {},
   "source": [
    "The random forest models worked better on the test set than it did during cross-validation. This model heavly depends on the amount of data that its given since the accuracy changes by a lot as the amount of data increases."
   ]
  },
  {
   "cell_type": "markdown",
   "id": "28affa53",
   "metadata": {},
   "source": [
    "### Summary of Comparison"
   ]
  },
  {
   "cell_type": "markdown",
   "id": "23ba7996",
   "metadata": {},
   "source": [
    "To summarize the comparison between supervised and unsupervised learning for this task when it comes to the amount of data used, the unsupervised models performed better than the supervised models. The unsupervised model with 10% of the data, outperformed the supervised model in all cases (even the random forest model evaluated in the prior section). The unsupervised model also appears to not overfit like the supervised model. There wasn't large differences between the training and testing accuracy for the NMF models, which indicates that the model isn't overfitting. For the random forest model, there is quite large differences between the training, cross-validation, and testing accuracies. Since the training accuracy was always near 100% as well, this indicates that the model is overfitting. My final recommendation for the best approach, would be the NMF model since all of them performed rather well."
   ]
  },
  {
   "cell_type": "markdown",
   "id": "d58a49df",
   "metadata": {},
   "source": [
    "---"
   ]
  },
  {
   "cell_type": "markdown",
   "id": "389bbd0a",
   "metadata": {},
   "source": [
    "# References"
   ]
  },
  {
   "cell_type": "markdown",
   "id": "745b2db7",
   "metadata": {},
   "source": [
    "- https://scikit-learn.org/stable/modules/generated/sklearn.feature_extraction.text.TfidfVectorizer.html\n",
    "- https://scikit-learn.org/stable/modules/generated/sklearn.feature_extraction.text.TfidfTransformer.html#sklearn.feature_extraction.text.TfidfTransformer\n",
    "- https://scikit-learn.org/stable/modules/generated/sklearn.decomposition.NMF.html"
   ]
  },
  {
   "cell_type": "markdown",
   "id": "dabddb89",
   "metadata": {},
   "source": [
    "---"
   ]
  }
 ],
 "metadata": {
  "kernelspec": {
   "display_name": "Python 3 (ipykernel)",
   "language": "python",
   "name": "python3"
  },
  "language_info": {
   "codemirror_mode": {
    "name": "ipython",
    "version": 3
   },
   "file_extension": ".py",
   "mimetype": "text/x-python",
   "name": "python",
   "nbconvert_exporter": "python",
   "pygments_lexer": "ipython3",
   "version": "3.10.8"
  }
 },
 "nbformat": 4,
 "nbformat_minor": 5
}
